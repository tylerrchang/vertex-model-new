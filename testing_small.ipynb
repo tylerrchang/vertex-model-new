{
 "cells": [
  {
   "cell_type": "code",
   "execution_count": null,
   "metadata": {},
   "outputs": [
    {
     "ename": "",
     "evalue": "",
     "output_type": "error",
     "traceback": [
      "\u001b[1;31mThe kernel failed to start as the Python Environment '.env (Python 3.12.2)' is no longer available. Consider selecting another kernel or refreshing the list of Python Environments."
     ]
    }
   ],
   "source": [
    "%reset -f\n",
    "import matplotlib.pyplot as plt\n",
    "import os\n",
    "import numpy as np\n",
    "import parsing\n",
    "import copy\n",
    "import vertex\n",
    "import time\n",
    "import movement\n",
    "import cell\n",
    "import geometry\n",
    "import data_holder\n",
    "%load_ext autoreload\n",
    "%autoreload 2\n",
    "%reload_ext autoreload\n",
    "%matplotlib inline"
   ]
  },
  {
   "cell_type": "code",
   "execution_count": 109,
   "metadata": {},
   "outputs": [],
   "source": [
    "data = parsing.read_data(\n",
    "    os.path.join(\"data\", \"network_vertices.txt\"),\n",
    "    os.path.join(\"data\", \"cell_indices.txt\"), \n",
    "    5, 5, 1, 1, 0.01\n",
    ")"
   ]
  },
  {
   "cell_type": "code",
   "execution_count": 110,
   "metadata": {},
   "outputs": [
    {
     "data": {
      "text/plain": [
       "[V(0.930866, 0.271744),\n",
       " V(0.116862, 0.802272),\n",
       " V(0.563237, 1.233827),\n",
       " V(0.349978, 1.81711),\n",
       " V(0.375702, 2.313142),\n",
       " V(0.604067, 2.999615),\n",
       " V(0.299085, 3.474244),\n",
       " V(-0.064818, 4.652581),\n",
       " V(1.398975, -0.074888),\n",
       " V(1.391676, 1.049655),\n",
       " V(1.160173, 1.56442),\n",
       " V(1.60824, 1.961066),\n",
       " V(1.342551, 2.416602),\n",
       " V(1.562803, 3.106261),\n",
       " V(1.064323, 3.488212),\n",
       " V(1.391571, 3.776807),\n",
       " V(2.141749, 0.281557),\n",
       " V(2.448764, 1.04931),\n",
       " V(2.586193, 1.480577),\n",
       " V(2.184154, 1.890135),\n",
       " V(2.543788, 2.569701),\n",
       " V(1.866666, 2.730649),\n",
       " V(2.487271, 3.514713),\n",
       " V(1.770058, 3.801211),\n",
       " V(3.06361, 0.284279),\n",
       " V(3.555957, 0.889567),\n",
       " V(2.773178, 1.238788),\n",
       " V(3.222748, 1.948208),\n",
       " V(3.511009, 2.742986),\n",
       " V(3.469543, 2.862983),\n",
       " V(3.386142, 3.557367),\n",
       " V(3.241826, 4.298552),\n",
       " V(4.18583, 0.387196),\n",
       " V(4.197804, 0.781788),\n",
       " V(3.907473, 1.217865),\n",
       " V(4.145059, 2.032152),\n",
       " V(4.437937, 2.698011),\n",
       " V(3.992574, 3.148598),\n",
       " V(4.143524, 3.371457),\n",
       " V(4.134823, 4.58872),\n",
       " V(4.703293, 0.511607),\n",
       " V(5.243425, 0.469836),\n",
       " V(5.109806, 1.133103),\n",
       " V(5.229939, 1.648571),\n",
       " V(4.891341, 2.325022),\n",
       " V(5.372004, 3.201157),\n",
       " V(5.047313, 3.488913),\n",
       " V(4.917538, 4.471589)]"
      ]
     },
     "execution_count": 110,
     "metadata": {},
     "output_type": "execute_result"
    }
   ],
   "source": [
    "data.vert_list"
   ]
  },
  {
   "cell_type": "code",
   "execution_count": 106,
   "metadata": {},
   "outputs": [],
   "source": [
    "movement.move_vertices(data.vert_list, data)"
   ]
  },
  {
   "cell_type": "code",
   "execution_count": 107,
   "metadata": {},
   "outputs": [
    {
     "data": {
      "text/plain": [
       "[V(1.0488479617579762, 0.3944357306644693),\n",
       " V(4.8487382395433976, 0.9118290968782355),\n",
       " V(0.5588822541306485, 1.1459874999523887),\n",
       " V(0.36071155784116904, 1.8835032976879265),\n",
       " V(0.19657022631100182, 2.2933992165093153),\n",
       " V(0.803339575286694, 2.933782476053119),\n",
       " V(0.09013378817781528, 3.436260643611808),\n",
       " V(4.8022769369878056, 0.20421382911955277),\n",
       " V(1.5409873384980437, 4.849693042307328),\n",
       " V(1.2740929809387729, 1.1162360269573655),\n",
       " V(1.131172856573671, 1.6793916259800992),\n",
       " V(1.6443406365746422, 1.9530499579432954),\n",
       " V(1.3777163968706887, 2.410071536955316),\n",
       " V(1.6375929493645889, 3.2513375738167127),\n",
       " V(1.0131571403523516, 3.463395616806532),\n",
       " V(1.3718914371953648, 4.092623139987279),\n",
       " V(1.948635091919701, 0.3429600655422854),\n",
       " V(2.6514629016968723, 1.0962918369428878),\n",
       " V(2.6352033527242544, 1.6232647155056377),\n",
       " V(2.147701333912363, 1.8538731161580446),\n",
       " V(2.5916583139700524, 2.630989302378541),\n",
       " V(1.7198391062785525, 2.558962877158864),\n",
       " V(2.537730998499639, 3.538125183789174),\n",
       " V(1.7246297385336251, 4.115652781158633),\n",
       " V(3.116094193234976, 0.3688840748257305),\n",
       " V(3.626363169554136, 0.9730330624034302),\n",
       " V(2.6398162799815372, 1.055355237277735),\n",
       " V(3.114921561100829, 1.9377496166452366),\n",
       " V(3.751767729067665, 2.766515905404235),\n",
       " V(3.3185305422511386, 2.7751063006581718),\n",
       " V(3.5917382261430046, 3.522912205536191),\n",
       " V(3.1259859971824726, 4.652742334469381),\n",
       " V(4.035901092917699, 0.388172523473913),\n",
       " V(4.44269529715742, 0.780197782152273),\n",
       " V(3.636625940929843, 1.1859087899125038),\n",
       " V(4.2721733675357045, 2.069678051677558),\n",
       " V(4.4728576499131725, 2.8352861060843346),\n",
       " V(3.947765182296508, 3.1895715782738194),\n",
       " V(4.060321946475493, 3.284308571092586),\n",
       " V(4.2648701282183, 4.989802515394549),\n",
       " V(4.690006449322234, 0.7336567901207137),\n",
       " V(0.5393259333921279, 0.3917662144150918),\n",
       " V(0.21148880185133923, 1.101169999627185),\n",
       " V(0.4271769366081317, 1.6194086073224263),\n",
       " V(4.8893323464995495, 2.251335692746671),\n",
       " V(0.6486306518377756, 3.2531101081268377),\n",
       " V(0.13347262077714728, 3.44244656767497),\n",
       " V(0.008764542464938074, 4.952852222960167)]"
      ]
     },
     "execution_count": 107,
     "metadata": {},
     "output_type": "execute_result"
    }
   ],
   "source": [
    "data.vert_list"
   ]
  },
  {
   "cell_type": "code",
   "execution_count": 26,
   "metadata": {},
   "outputs": [
    {
     "data": {
      "text/plain": [
       "[1.5, 1.5]"
      ]
     },
     "execution_count": 26,
     "metadata": {},
     "output_type": "execute_result"
    }
   ],
   "source": [
    "geometry.midpoint_formula([1, 1], [2, 2])"
   ]
  },
  {
   "cell_type": "code",
   "execution_count": 85,
   "metadata": {},
   "outputs": [
    {
     "name": "stdout",
     "output_type": "stream",
     "text": [
      "[11.79819618 12.26917307]\n"
     ]
    }
   ],
   "source": [
    "movement.move_vertices(data.vert_list, data)"
   ]
  },
  {
   "cell_type": "code",
   "execution_count": 35,
   "metadata": {},
   "outputs": [
    {
     "data": {
      "text/plain": [
       "array([1.5, 2. ])"
      ]
     },
     "execution_count": 35,
     "metadata": {},
     "output_type": "execute_result"
    }
   ],
   "source": [
    "geometry.midpoint_formula_boundary_check([1, 2], [2,2], data)"
   ]
  },
  {
   "cell_type": "code",
   "execution_count": 36,
   "metadata": {},
   "outputs": [],
   "source": [
    "vector = np.array([1, 2])"
   ]
  },
  {
   "cell_type": "code",
   "execution_count": 64,
   "metadata": {},
   "outputs": [],
   "source": [
    "v1 = vertex.Vertex(0, 0)\n",
    "v2 = vertex.Vertex(2, 0)\n",
    "v3 = vertex.Vertex(4, 0)\n",
    "v4 = vertex.Vertex(2, 2)\n",
    "v5 = vertex.Vertex(0, 2)\n",
    "v6 = vertex.Vertex(3, 3)\n",
    "v7 = vertex.Vertex(2, 4.9)\n",
    "cell1_list = [\n",
    "    v1, v2, v4, v5\n",
    "]\n",
    "cell2_list = [\n",
    "    v2, v4, v6, v3\n",
    "]\n",
    "cell3_list = [\n",
    "    v5, v7, v6, v4\n",
    "]\n",
    "cell1 = cell.Cell(cell1_list, data)\n",
    "cell2 = cell.Cell(cell2_list, data)\n",
    "cell3 = cell.Cell(cell3_list, data)"
   ]
  },
  {
   "cell_type": "code",
   "execution_count": 65,
   "metadata": {},
   "outputs": [
    {
     "data": {
      "text/plain": [
       "(V(2, 0), V(2, 2))"
      ]
     },
     "execution_count": 65,
     "metadata": {},
     "output_type": "execute_result"
    }
   ],
   "source": [
    "geometry.find_shared_edge(cell1, cell2, v2)"
   ]
  },
  {
   "cell_type": "code",
   "execution_count": 66,
   "metadata": {},
   "outputs": [
    {
     "data": {
      "text/plain": [
       "array([1., 1.])"
      ]
     },
     "execution_count": 66,
     "metadata": {},
     "output_type": "execute_result"
    }
   ],
   "source": [
    "cell1.center"
   ]
  },
  {
   "cell_type": "code",
   "execution_count": 69,
   "metadata": {},
   "outputs": [
    {
     "data": {
      "text/plain": [
       "array([3.5, 3.5])"
      ]
     },
     "execution_count": 69,
     "metadata": {},
     "output_type": "execute_result"
    }
   ],
   "source": [
    "cell1.center = [-1, -1]\n",
    "cell2.center = [3, 3]\n",
    "geometry.midpoint_formula_boundary_check(cell1.center, cell2.center, data)"
   ]
  },
  {
   "cell_type": "code",
   "execution_count": 67,
   "metadata": {},
   "outputs": [
    {
     "data": {
      "text/plain": [
       "4"
      ]
     },
     "execution_count": 67,
     "metadata": {},
     "output_type": "execute_result"
    }
   ],
   "source": []
  },
  {
   "cell_type": "code",
   "execution_count": 71,
   "metadata": {},
   "outputs": [],
   "source": [
    "e = np.zeros(2)\n",
    "e[0] = 1"
   ]
  },
  {
   "cell_type": "code",
   "execution_count": 72,
   "metadata": {},
   "outputs": [
    {
     "data": {
      "text/plain": [
       "array([1., 0.])"
      ]
     },
     "execution_count": 72,
     "metadata": {},
     "output_type": "execute_result"
    }
   ],
   "source": []
  },
  {
   "cell_type": "code",
   "execution_count": null,
   "metadata": {},
   "outputs": [],
   "source": []
  }
 ],
 "metadata": {
  "kernelspec": {
   "display_name": ".env",
   "language": "python",
   "name": "python3"
  },
  "language_info": {
   "codemirror_mode": {
    "name": "ipython",
    "version": 3
   },
   "file_extension": ".py",
   "mimetype": "text/x-python",
   "name": "python",
   "nbconvert_exporter": "python",
   "pygments_lexer": "ipython3",
   "version": "3.12.2"
  }
 },
 "nbformat": 4,
 "nbformat_minor": 2
}
